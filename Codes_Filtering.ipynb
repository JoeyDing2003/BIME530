{
 "cells": [
  {
   "cell_type": "code",
   "execution_count": 2,
   "id": "4da7748a",
   "metadata": {},
   "outputs": [],
   "source": [
    "import pandas as pd\n",
    "import numpy as np"
   ]
  },
  {
   "cell_type": "code",
   "execution_count": null,
   "id": "338d5c7a",
   "metadata": {},
   "outputs": [],
   "source": [
    "# Load the datasets\n",
    "Atripla = pd.read_csv(\"/Users/Joey/Downloads/BIME530_Assignment1/Athena/medication/Atripla.csv\", sep='\\t')\n",
    "AIDS = pd.read_csv(\"/Users/Joey/Downloads/BIME530_Assignment1/Athena/outcome/AIDS.csv\", sep='\\t')\n",
    "AIDS_full = pd.read_csv(\"/Users/Joey/Downloads/BIME530_Assignment1/Athena/outcome/Acquired_immunodeficiency_Syndrome.csv\", sep='\\t')\n",
    "HIV_full = pd.read_csv(\"/Users/Joey/Downloads/BIME530_Assignment1/Athena/diagnose/HIV_full.csv\", sep='\\t')"
   ]
  },
  {
   "cell_type": "code",
   "execution_count": 6,
   "id": "1739205b",
   "metadata": {},
   "outputs": [],
   "source": [
    "Complera_full_1 = Complera_full[Complera_full['Name'].str.contains('Complera', case=False)]\n",
    "Complera_full_1.to_csv(\"/Users/Joey/Downloads/BIME530_Assignment1/Athena/medication/Complera_1.csv\", sep='\\t', index=False)"
   ]
  },
  {
   "cell_type": "code",
   "execution_count": 14,
   "id": "2e32027e",
   "metadata": {},
   "outputs": [],
   "source": [
    "Atripla_1 = Atripla[Atripla[\"Name\"].str.contains(\"Atripla\", case=False)]\n",
    "Atripla_1.to_csv(\"/Users/Joey/Downloads/BIME530_Assignment1/Athena/medication/Atripla_1.csv\", sep='\\t', index=False)"
   ]
  },
  {
   "cell_type": "code",
   "execution_count": 15,
   "id": "a58a2fe3",
   "metadata": {},
   "outputs": [],
   "source": [
    "AIDS_1 = AIDS[AIDS[\"Name\"].str.contains(\"AIDS\")]\n",
    "AIDS_1.to_csv(\"/Users/Joey/Downloads/BIME530_Assignment1/Athena/outcome/AIDS_1.csv\", sep='\\t', index=False)"
   ]
  },
  {
   "cell_type": "code",
   "execution_count": 16,
   "id": "037d59e1",
   "metadata": {},
   "outputs": [],
   "source": [
    "AIDS_full_1 = AIDS_full[AIDS_full[\"Name\"].str.contains(\"acquired immunodeficiency syndrome\", case=False)]\n",
    "AIDS_full_1.to_csv(\"/Users/Joey/Downloads/BIME530_Assignment1/Athena/outcome/AIDS_full_1.csv\", sep='\\t', index=False)"
   ]
  },
  {
   "cell_type": "code",
   "execution_count": 18,
   "id": "2a31f341",
   "metadata": {},
   "outputs": [],
   "source": [
    "HIV_full_1 = HIV_full[HIV_full[\"Name\"].str.contains(\"Human Immunodeficiency Virus\", case=False)]\n",
    "HIV_full_1.to_csv(\"/Users/Joey/Downloads/BIME530_Assignment1/Athena/diagnose/HIV_full_1.csv\", sep='\\t', index=False)"
   ]
  }
 ],
 "metadata": {
  "kernelspec": {
   "display_name": "Data-ML",
   "language": "python",
   "name": "python3"
  },
  "language_info": {
   "codemirror_mode": {
    "name": "ipython",
    "version": 3
   },
   "file_extension": ".py",
   "mimetype": "text/x-python",
   "name": "python",
   "nbconvert_exporter": "python",
   "pygments_lexer": "ipython3",
   "version": "3.13.2"
  }
 },
 "nbformat": 4,
 "nbformat_minor": 5
}
